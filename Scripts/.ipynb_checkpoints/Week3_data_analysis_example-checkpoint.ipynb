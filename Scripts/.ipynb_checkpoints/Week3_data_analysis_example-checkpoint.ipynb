{
 "cells": [
  {
   "cell_type": "markdown",
   "metadata": {},
   "source": [
    "<div class=\"alert alert-block alert-info\">\n",
    "    \n",
    "# Ames Data Analysis\n"
   ]
  },
  {
   "cell_type": "markdown",
   "metadata": {},
   "source": [
    "<div class=\"alert alert-block alert-warning\">\n",
    "    \n",
    "# This notebook is just for illustrative purposes. The model fit here is *_not_* the best model for the data."
   ]
  },
  {
   "cell_type": "code",
   "execution_count": 4,
   "metadata": {},
   "outputs": [],
   "source": [
    "# This piece of code enables display of multiple output from one cell.\n",
    "from IPython.core.interactiveshell import InteractiveShell\n",
    "InteractiveShell.ast_node_interactivity = 'all'"
   ]
  },
  {
   "cell_type": "code",
   "execution_count": 5,
   "metadata": {},
   "outputs": [],
   "source": [
    "import pandas as pd\n",
    "import numpy as np\n",
    "from scipy import stats\n",
    "import matplotlib.pyplot as plt\n",
    "import seaborn as sns"
   ]
  },
  {
   "cell_type": "markdown",
   "metadata": {},
   "source": [
    "## Loading Data"
   ]
  },
  {
   "cell_type": "code",
   "execution_count": 6,
   "metadata": {},
   "outputs": [
    {
     "name": "stdout",
     "output_type": "stream",
     "text": [
      " Dimensions of the imported dataset is: (2930, 81)\n"
     ]
    }
   ],
   "source": [
    "ames = pd.read_csv(\"../Data/AmesHousing.csv\", index_col=\"Order\")\n",
    "# Check dimensions of the data\n",
    "print(\" Dimensions of the imported dataset is: \" + str(ames.shape))"
   ]
  },
  {
   "cell_type": "code",
   "execution_count": null,
   "metadata": {},
   "outputs": [],
   "source": [
    "# Print top 2 rows in the dataset\n",
    "ames.head(4)"
   ]
  },
  {
   "cell_type": "code",
   "execution_count": 7,
   "metadata": {},
   "outputs": [],
   "source": [
    "ames.columns = ames.columns.str.replace(' ', '')\n",
    "ames.columns = [col.lower() for col in ames]\n",
    "#ames.columns"
   ]
  },
  {
   "cell_type": "code",
   "execution_count": 8,
   "metadata": {},
   "outputs": [
    {
     "name": "stdout",
     "output_type": "stream",
     "text": [
      "Number of Numerical features:  38\n",
      "Number of Categorical features:  43\n"
     ]
    }
   ],
   "source": [
    "# Marking the features or columns as numeric or categorical for easy referencce later in the code\n",
    "numericfeatures = [f for f in ames.columns if ames.dtypes[f] != 'object']\n",
    "print(\"Number of Numerical features: \", len(numericfeatures))\n",
    "\n",
    "categoricalfeatures = [f for f in ames.columns if ames.dtypes[f] == 'object']\n",
    "print(\"Number of Categorical features: \", len(categoricalfeatures))"
   ]
  },
  {
   "cell_type": "code",
   "execution_count": null,
   "metadata": {},
   "outputs": [],
   "source": [
    "print(\"numeric features: \" + str(numericfeatures))\n",
    "print(\"categorical features: \" + str(categoricalfeatures))"
   ]
  },
  {
   "cell_type": "code",
   "execution_count": null,
   "metadata": {},
   "outputs": [],
   "source": [
    "# What is the distribution of sale price\n",
    "ames['saleprice'].hist(bins=75, rwidth=.8, figsize=(14,4))\n",
    "ames['saleprice'].describe()"
   ]
  },
  {
   "cell_type": "markdown",
   "metadata": {},
   "source": [
    "The minimum sale price is at 12,789 while the maximum sale price is 755,000. The median sale price was $160,000. The distribution seems to be skewed with a few very high priced house sales on the right"
   ]
  },
  {
   "cell_type": "code",
   "execution_count": null,
   "metadata": {},
   "outputs": [],
   "source": [
    "# Date range in the data\n",
    "yax = ames.groupby(['yrsold'])['yrsold'].count()\n",
    "plt.bar(yax.index, yax)"
   ]
  },
  {
   "cell_type": "markdown",
   "metadata": {},
   "source": [
    "The data was collected from 2006 to 2010. \n",
    "Note: Data includes the 2008 downturn event. Effects of which in the data is yet to be seen"
   ]
  },
  {
   "cell_type": "code",
   "execution_count": null,
   "metadata": {},
   "outputs": [],
   "source": [
    "from datetime import date\n",
    "date_sold = pd.DataFrame({'year': ames['yrsold'], 'month' : ames['mosold']})\n",
    "\n",
    "DATE = []\n",
    "for yr, mo in zip(date_sold.year, date_sold.month):\n",
    "    DATE.append(date(yr, mo, 10))\n",
    "\n",
    "ames['yrmosold'] = DATE\n",
    "ames.head()"
   ]
  },
  {
   "cell_type": "code",
   "execution_count": null,
   "metadata": {},
   "outputs": [],
   "source": [
    "# Is there seasonality in house sales\n",
    "ames.groupby(['yrmosold']).pid.count().plot(kind='line', figsize=(14,4))\n",
    "plt.title('Seasonality in Houses sold')\n",
    "plt.ylabel('# of houses sold')\n",
    "plt.xlabel('Sale Year-Month')"
   ]
  },
  {
   "cell_type": "markdown",
   "metadata": {},
   "source": [
    "There is a clear seasonal pattern in house sales, peaking in summer. However 2010 seems to be different from the previous few years in number of houses sold."
   ]
  },
  {
   "cell_type": "code",
   "execution_count": null,
   "metadata": {},
   "outputs": [],
   "source": [
    "ames.groupby(['neighborhood']).pid.count().sort_values(ascending=False).plot(kind='bar', figsize=(14,4))\n",
    "plt.title('Number of houses sold by neighborhood')\n",
    "plt.ylabel('# of houses sold')\n",
    "\n",
    "ames[['saleprice','neighborhood']].boxplot(column=['saleprice'], by=['neighborhood']\n",
    "                                           ,rot=45, fontsize=15, figsize=(20,15))"
   ]
  },
  {
   "cell_type": "markdown",
   "metadata": {},
   "source": [
    "NAmes had the highest number of house sold in the sample data. NWAmes had a few houses sold at the highest price in the dataset."
   ]
  },
  {
   "cell_type": "markdown",
   "metadata": {},
   "source": [
    "## Clean Data\n",
    "\n",
    "1. Drop duplicates\n",
    "2. Handle missing values"
   ]
  },
  {
   "cell_type": "markdown",
   "metadata": {},
   "source": [
    "#### Check and Drop Duplicates"
   ]
  },
  {
   "cell_type": "code",
   "execution_count": null,
   "metadata": {},
   "outputs": [],
   "source": [
    "# Drop duplicates\n",
    "before = ames.shape[0]\n",
    "ames.drop_duplicates(inplace = True, keep = 'last')\n",
    "rows_dropped = before - ames.shape[0]\n",
    "print(str(rows_dropped) + ' ' +  \"duplicate rows dropped from the the dataset\")"
   ]
  },
  {
   "cell_type": "markdown",
   "metadata": {},
   "source": [
    "#### Check and Handle Missing Values"
   ]
  },
  {
   "cell_type": "code",
   "execution_count": null,
   "metadata": {},
   "outputs": [],
   "source": [
    "#Check for missing values\n",
    "print(\"Columns by % of missing values in descending order\")\n",
    "ames.isnull().sum()[ames.isnull().sum()>0].sort_values(ascending = False)*100/ames.shape[0]"
   ]
  },
  {
   "cell_type": "code",
   "execution_count": null,
   "metadata": {},
   "outputs": [],
   "source": [
    "# Since most of the categorical data that is missing is due to absence of feature in the home. \n",
    "# So we are imputing the missing values with \"none\" \n",
    "# Impute missing values\n",
    "\n",
    "\n",
    "for col in categoricalfeatures:\n",
    "    ames[col].fillna('none',inplace=True)"
   ]
  },
  {
   "cell_type": "code",
   "execution_count": null,
   "metadata": {},
   "outputs": [],
   "source": [
    "# To illustrate, we are imputing the missing values for numeric features with median.\n",
    "ames.fillna(ames.median(), inplace=True)"
   ]
  },
  {
   "cell_type": "code",
   "execution_count": null,
   "metadata": {},
   "outputs": [],
   "source": [
    "#Check for missing values\n",
    "print(\"Columns by % of missing values in descending order\")\n",
    "ames.isnull().sum()[ames.isnull().sum()>0].sort_values(ascending = False)*100/ames.shape[0]"
   ]
  },
  {
   "cell_type": "markdown",
   "metadata": {},
   "source": [
    "## EDA"
   ]
  },
  {
   "cell_type": "markdown",
   "metadata": {},
   "source": [
    "### Univariate"
   ]
  },
  {
   "cell_type": "code",
   "execution_count": null,
   "metadata": {},
   "outputs": [],
   "source": [
    "# plot histogram chart\n",
    "ames[numericfeatures].hist(figsize=(16, 20), bins=50, xlabelsize=8, ylabelsize=8)\n",
    "    "
   ]
  },
  {
   "cell_type": "markdown",
   "metadata": {},
   "source": [
    "Some of the numeric features seem to be categories. \n",
    "There are features that indicate time "
   ]
  },
  {
   "cell_type": "code",
   "execution_count": null,
   "metadata": {},
   "outputs": [],
   "source": [
    "for col in list(categoricalfeatures) :\n",
    "    print(ames[col].value_counts())\n",
    "    print('#'*50)"
   ]
  },
  {
   "cell_type": "code",
   "execution_count": null,
   "metadata": {},
   "outputs": [],
   "source": [
    "# Drop categorical features that are highly skewed \n",
    "before = ames.shape[1]\n",
    "drop_cols =  ['heating', 'roofmatl','condition2', 'street', 'utilities', 'alley']\n",
    "ames.drop(drop_cols, axis = 1, inplace = True)\n",
    "columns_dropped = before - ames.shape[1]\n",
    "print(str(columns_dropped) + ' ' + 'columns dropped from the original dataset')"
   ]
  },
  {
   "cell_type": "markdown",
   "metadata": {},
   "source": [
    "## Feature Engineering \n",
    "1. Create categorical features\n",
    "2. Take math transformation"
   ]
  },
  {
   "cell_type": "code",
   "execution_count": null,
   "metadata": {},
   "outputs": [],
   "source": [
    "ames['log_saleprice'] = np.log(ames['saleprice'])"
   ]
  },
  {
   "cell_type": "code",
   "execution_count": null,
   "metadata": {},
   "outputs": [],
   "source": [
    "ames['age']= ames['yrsold']-ames['yearbuilt']"
   ]
  },
  {
   "cell_type": "code",
   "execution_count": null,
   "metadata": {},
   "outputs": [],
   "source": [
    "ames['totalbath'] = ames['fullbath'] + ames['halfbath']*0.5 + ames['bsmtfullbath'] + ames['bsmthalfbath']*0.5\n",
    "ames['totalsqft']= ames['totalbsmtsf'] + ames['1stflrsf'] + ames['2ndflrsf']"
   ]
  },
  {
   "cell_type": "code",
   "execution_count": null,
   "metadata": {},
   "outputs": [],
   "source": [
    "neighmap  = {'NoRidge':3,'NridgHt':3, 'Somerst':3,\n",
    "             'NAmes':1,'Sawyer':1,'OldTown':1,'Edwards':1,'BrkSide':1, \n",
    "             'CollgCr':2, 'NWAmes': 2, 'SawyerW':2, 'Mitchel':2, 'Crawfor': 2, 'IDOTRR': 2, 'Timber': 2,\n",
    "             'StoneBr': 2, 'SWISU': 2, 'ClearCr': 2, 'MeadowV': 2, 'BrDale': 2, 'Blmngtn': 2, 'Veenker':2,\n",
    "             'NPkVill': 2, 'Blueste': 2, 'Greens': 2, 'GrnHill': 2, 'Landmrk': 2, 'Crawfor': 2, 'Gilbert':2}\n",
    "ames['neighborbuckets'] = ames['neighborhood'].map(neighmap)"
   ]
  },
  {
   "cell_type": "code",
   "execution_count": null,
   "metadata": {},
   "outputs": [],
   "source": [
    "ames.head(3)"
   ]
  },
  {
   "cell_type": "code",
   "execution_count": null,
   "metadata": {},
   "outputs": [],
   "source": [
    "# created boolean features\n",
    "ames['hasbasement'] = ames.totalbsmtsf.apply(lambda x: 1 if x > 0 else 0)\n",
    "ames['hasgarage'] = ames.garagearea.apply(lambda x: 1 if x > 0 else 0)\n",
    "ames['haspool'] = ames.poolarea.apply(lambda x: 1 if x > 0 else 0)\n",
    "ames['wasremodeled'] = (ames['yearremod/add'] != ames.yearbuilt).astype(np.int64)"
   ]
  },
  {
   "cell_type": "code",
   "execution_count": null,
   "metadata": {},
   "outputs": [],
   "source": [
    "# Marking the features or columns as numeric or categorical for easy referencce later in the code\n",
    "numericfeatures = [f for f in ames.columns if ames.dtypes[f] != 'object']\n",
    "print(\"Number of Numerical features: \", len(numericfeatures))\n",
    "\n",
    "categoricalfeatures = [f for f in ames.columns if ames.dtypes[f] == 'object']\n",
    "print(\"Number of Categorical features: \", len(categoricalfeatures))"
   ]
  },
  {
   "cell_type": "markdown",
   "metadata": {},
   "source": [
    "## Visualization"
   ]
  },
  {
   "cell_type": "markdown",
   "metadata": {},
   "source": [
    "### Univariate"
   ]
  },
  {
   "cell_type": "code",
   "execution_count": null,
   "metadata": {},
   "outputs": [],
   "source": [
    "ames[numericfeatures].hist(figsize=(16, 20), bins=50, xlabelsize=8, ylabelsize=8)"
   ]
  },
  {
   "cell_type": "code",
   "execution_count": null,
   "metadata": {},
   "outputs": [],
   "source": [
    "for col in list(categoricalfeatures) :\n",
    "    print(ames[col].value_counts())\n",
    "    print('#'*50)"
   ]
  },
  {
   "cell_type": "markdown",
   "metadata": {},
   "source": [
    "### Bivariate"
   ]
  },
  {
   "cell_type": "code",
   "execution_count": null,
   "metadata": {},
   "outputs": [],
   "source": [
    "ames_corr = ames.corr()\n",
    "ames_corr['saleprice'].sort_values(ascending=False)\n",
    "#ames['log_saleprice'] = np.log(ames['saleprice'])"
   ]
  },
  {
   "cell_type": "code",
   "execution_count": null,
   "metadata": {},
   "outputs": [],
   "source": [
    "subsetd = ames[['saleprice','log_saleprice','grlivarea','totalsqft','totalbath','hasbasement',\n",
    "                    'overallqual', 'hasgarage','neighborbuckets','age']]\n",
    "#pd.plotting.scatter_matrix(subsetd, alpha=0.9, marker=\"o\", figsize=(15,15),diagonal = 'kde', grid=True)"
   ]
  },
  {
   "cell_type": "code",
   "execution_count": null,
   "metadata": {},
   "outputs": [],
   "source": [
    "subsetd['saleprice'].hist(bins=50, rwidth=.8, figsize=(14,4))\n",
    "plt.show()\n",
    "\n",
    "subsetd['log_saleprice'].hist(bins=50, rwidth=.8, figsize=(14,4))\n",
    "plt.show()"
   ]
  },
  {
   "cell_type": "code",
   "execution_count": null,
   "metadata": {},
   "outputs": [],
   "source": [
    "subsetd = ames[['log_saleprice','grlivarea','totalsqft','totalbath','hasbasement',\n",
    "                    'overallqual', 'hasgarage','neighborbuckets','age']]\n",
    "#pd.plotting.scatter_matrix(subsetd, alpha=0.9, marker=\"o\", figsize=(15,15),diagonal = 'kde', grid=True)"
   ]
  },
  {
   "cell_type": "markdown",
   "metadata": {},
   "source": [
    "There seems to be positive correlations with log_sale price."
   ]
  },
  {
   "cell_type": "markdown",
   "metadata": {},
   "source": [
    "## Is there any difference between the neighborhood buckets?"
   ]
  },
  {
   "cell_type": "code",
   "execution_count": null,
   "metadata": {},
   "outputs": [],
   "source": [
    "ames[['saleprice','neighborbuckets']].boxplot(column=['saleprice'], by=['neighborbuckets']\n",
    "                                           ,rot=45, fontsize=15, figsize=(20,15))"
   ]
  },
  {
   "cell_type": "code",
   "execution_count": null,
   "metadata": {},
   "outputs": [],
   "source": [
    "from scipy.stats import f_oneway\n",
    "n1 = ames[ames.neighborbuckets == 1]\n",
    "n2 = ames[ames.neighborbuckets == 2]\n",
    "n3 = ames[ames.neighborbuckets == 3]\n",
    "stat, p = f_oneway(n1['saleprice'], n2['saleprice'], n3['saleprice'])\n",
    "print('stat=%.3f, p=%.3f' % (stat, p))\n",
    "if p > 0.05:\n",
    "    print('Mean of all the categories are the same')\n",
    "else:\n",
    "    print('At least one mean is different')"
   ]
  },
  {
   "cell_type": "markdown",
   "metadata": {},
   "source": [
    "## Verify Sale price distribution"
   ]
  },
  {
   "cell_type": "code",
   "execution_count": null,
   "metadata": {},
   "outputs": [],
   "source": [
    "stats.probplot(ames['saleprice'], plot=plt)\n",
    "plt.ylabel('Sale Price')\n",
    "plt.show()\n",
    "stats.probplot(np.log(ames['saleprice']), plot=plt)\n",
    "plt.ylabel('Log Sale Price')\n",
    "plt.show()"
   ]
  },
  {
   "cell_type": "markdown",
   "metadata": {},
   "source": [
    "Eyeballing the normal probability plot for Sale price seems like it has fatter tails as compared to the normal distribution. Taking log transformation of the sale price seems to pass a fat pencil test.\n",
    "Ho: Sale Price is normal (or Guassian) distributed\n",
    "H1: Sale price is not normal distributed"
   ]
  },
  {
   "cell_type": "markdown",
   "metadata": {},
   "source": [
    "## Hypothesis Testing"
   ]
  },
  {
   "cell_type": "code",
   "execution_count": null,
   "metadata": {},
   "outputs": [],
   "source": [
    "subsetd = ames[['log_saleprice','log_grlivarea','totalsqft','totalbath','hasbasement',\n",
    "                    'overallqual', 'hasgarage','neighborbuckets','age']]\n"
   ]
  },
  {
   "cell_type": "code",
   "execution_count": null,
   "metadata": {},
   "outputs": [],
   "source": [
    "from scipy.stats import shapiro\n",
    "series_2test = ames[['saleprice']]\n",
    "stat, p = shapiro(series_2test)\n",
    "print('stat=%.3f, p=%.3f' % (stat, p))\n",
    "if p > 0.05:\n",
    "    print('Probably Gaussian')\n",
    "else:\n",
    "    print('Probably not Gaussian')"
   ]
  },
  {
   "cell_type": "code",
   "execution_count": null,
   "metadata": {},
   "outputs": [],
   "source": [
    "ames['log_grlivarea'] = np.log(ames['grlivarea'])"
   ]
  },
  {
   "cell_type": "code",
   "execution_count": null,
   "metadata": {},
   "outputs": [],
   "source": [
    "ames['grlivarea'].hist(bins=50, rwidth=.8, figsize=(14,4))\n",
    "plt.show()\n",
    "ames['grlivarea'].describe()\n",
    "\n",
    "stats.probplot(ames['grlivarea'], plot=plt)\n",
    "plt.ylabel('grlivarea')\n",
    "plt.show()\n",
    "stats.probplot(np.log(ames['grlivarea']), plot=plt)\n",
    "plt.ylabel('log Gr Liv Area')\n",
    "plt.show()"
   ]
  },
  {
   "cell_type": "markdown",
   "metadata": {},
   "source": [
    "## Predictive Modeling"
   ]
  },
  {
   "cell_type": "code",
   "execution_count": null,
   "metadata": {},
   "outputs": [],
   "source": [
    "from statsmodels.formula.api import ols\n",
    "from sklearn.model_selection import train_test_split\n",
    "\n",
    "target= subsetd['log_saleprice']\n",
    "df_train = subsetd.drop(['log_saleprice'],axis=1)\n",
    "x_train,x_test,y_train,y_test = train_test_split(df_train,target,test_size=0.33,random_state=0)\n",
    "# Split data into train and test\n",
    "ames_train = pd.concat([x_train, y_train], axis=1)\n",
    "#ames_train.head()\n",
    "ames_test = pd.concat([x_test, y_test], axis=1)"
   ]
  },
  {
   "cell_type": "code",
   "execution_count": null,
   "metadata": {},
   "outputs": [],
   "source": [
    "ames_train.shape\n",
    "ames_test.shape"
   ]
  },
  {
   "cell_type": "code",
   "execution_count": null,
   "metadata": {},
   "outputs": [],
   "source": [
    "formula = 'log_saleprice ~ totalsqft + totalbath + overallqual \\\n",
    "            + C(neighborbuckets) + age'\n",
    "ames_model = ols(formula, data=ames_train).fit()\n",
    "print(ames_model.summary())"
   ]
  },
  {
   "cell_type": "code",
   "execution_count": null,
   "metadata": {},
   "outputs": [],
   "source": [
    "print('Parameters: ', ames_model.params)\n",
    "print('R2: ', ames_model.rsquared)\n",
    "\n",
    "print('Standard errors: ', ames_model.bse)\n",
    "print('Predicted values: ', ames_model.predict())\n",
    "\n",
    "## Ref:https://www.statsmodels.org/stable/examples/notebooks/generated/ols.html"
   ]
  },
  {
   "cell_type": "code",
   "execution_count": null,
   "metadata": {},
   "outputs": [],
   "source": [
    "from sklearn.linear_model import LinearRegression\n",
    "lin_reg = LinearRegression(normalize=True)\n",
    "lin_reg.fit(x_train,y_train)\n",
    "print(lin_reg.fit)\n",
    "print(lin_reg.intercept_)\n",
    "coeff_df = pd.DataFrame(lin_reg.coef_, x_train.columns, columns=['Coefficient'])\n",
    "coeff_df"
   ]
  },
  {
   "cell_type": "code",
   "execution_count": null,
   "metadata": {},
   "outputs": [],
   "source": [
    "# Check for multicollinearity"
   ]
  },
  {
   "cell_type": "code",
   "execution_count": null,
   "metadata": {},
   "outputs": [],
   "source": [
    "subsetd.corr().style.background_gradient(cmap='coolwarm').set_precision(2)"
   ]
  },
  {
   "cell_type": "markdown",
   "metadata": {},
   "source": [
    "### Time Series "
   ]
  },
  {
   "cell_type": "code",
   "execution_count": null,
   "metadata": {},
   "outputs": [],
   "source": [
    "ames_ts = pd.DataFrame(ames.groupby(['yrmosold']).pid.count())\n",
    "ames_ts.info()\n",
    "ames_ts.head()\n",
    "ames_ts.tail()"
   ]
  },
  {
   "cell_type": "code",
   "execution_count": null,
   "metadata": {},
   "outputs": [],
   "source": [
    "fig = plt.figure(figsize=(12,8))\n",
    "ax = fig.add_subplot(111)\n",
    "ames_ts.pid.plot(ax=ax);\n",
    "legend = ax.legend(loc = 'upper left');\n",
    "legend.prop.set_size(20);"
   ]
  },
  {
   "cell_type": "markdown",
   "metadata": {},
   "source": [
    "## Decomposition of Time series into seasonal and trend "
   ]
  },
  {
   "cell_type": "code",
   "execution_count": null,
   "metadata": {},
   "outputs": [],
   "source": [
    "from statsmodels.tsa.seasonal import STL\n",
    "stl = STL(pd.Series(ames_ts.pid),period =12)\n",
    "res = stl.fit()\n",
    "fig = res.plot()"
   ]
  },
  {
   "cell_type": "markdown",
   "metadata": {},
   "source": [
    "### Extra"
   ]
  },
  {
   "cell_type": "markdown",
   "metadata": {},
   "source": [
    "### Plotting ACF and PACF"
   ]
  },
  {
   "cell_type": "code",
   "execution_count": null,
   "metadata": {},
   "outputs": [],
   "source": [
    "import statsmodels.api as sm\n",
    "from statsmodels.tsa.arima.model import ARIMA\n",
    "\n",
    "\n",
    "fig = plt.figure(figsize=(12,8))\n",
    "ax1 = fig.add_subplot(211)\n",
    "fig = sm.graphics.tsa.plot_acf(ames_ts.pid.squeeze(), lags=24, ax=ax1)\n",
    "ax2 = fig.add_subplot(212)\n",
    "fig = sm.graphics.tsa.plot_pacf(ames_ts, lags=24, ax=ax2)"
   ]
  },
  {
   "cell_type": "markdown",
   "metadata": {},
   "source": [
    "## Figuring whether Multiplicative model or aditive model is more useful"
   ]
  },
  {
   "cell_type": "code",
   "execution_count": null,
   "metadata": {},
   "outputs": [],
   "source": [
    "from statsmodels.tsa.seasonal import seasonal_decompose\n",
    "from dateutil.parser import parse\n",
    "\n",
    "# Multiplicative Decomposition \n",
    "result_mul = seasonal_decompose(ames_ts, model='multiplicative', period=12)\n",
    "\n",
    "# Additive Decomposition\n",
    "result_add = seasonal_decompose(ames_ts, model='additive', period=12)\n",
    "\n",
    "# Plot\n",
    "plt.rcParams.update({'figure.figsize': (10,10)})\n",
    "result_mul.plot().suptitle('Multiplicative Decompose', fontsize=22)\n",
    "result_add.plot().suptitle('Additive Decompose', fontsize=22)\n",
    "plt.show()"
   ]
  },
  {
   "cell_type": "markdown",
   "metadata": {},
   "source": [
    "## Fitting Models"
   ]
  },
  {
   "cell_type": "code",
   "execution_count": null,
   "metadata": {},
   "outputs": [],
   "source": [
    "arma_mod = ARIMA(ames_ts, order=(1, 2, 0)).fit()\n",
    "#print(arma_mod.summary())"
   ]
  },
  {
   "cell_type": "code",
   "execution_count": null,
   "metadata": {},
   "outputs": [],
   "source": [
    "arma_mod2 = ARIMA(ames_ts, order=(1, 0, 0)).fit()\n",
    "#print(arma_mod2.params)"
   ]
  },
  {
   "cell_type": "code",
   "execution_count": null,
   "metadata": {},
   "outputs": [],
   "source": [
    "fig = plt.figure(figsize=(12,8))\n",
    "ax = fig.add_subplot(111)\n",
    "ax = arma_mod.resid.plot(ax=ax);\n",
    "ax = fig.add_subplot(111)\n",
    "ax = arma_mod2.resid.plot(ax=ax);"
   ]
  }
 ],
 "metadata": {
  "kernelspec": {
   "display_name": "Python 3",
   "language": "python",
   "name": "python3"
  },
  "language_info": {
   "codemirror_mode": {
    "name": "ipython",
    "version": 3
   },
   "file_extension": ".py",
   "mimetype": "text/x-python",
   "name": "python",
   "nbconvert_exporter": "python",
   "pygments_lexer": "ipython3",
   "version": "3.7.6"
  }
 },
 "nbformat": 4,
 "nbformat_minor": 4
}
